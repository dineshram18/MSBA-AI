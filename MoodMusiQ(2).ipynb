{
  "cells": [
    {
      "cell_type": "code",
      "source": [
        "cognitive_key = '<cognitive key>'\n",
        "cognitive_endpoint = '<cognitive endpoint>'\n",
        "\n",
        "print('Cognitive services ready at {}'.format(cognitive_key))"
      ],
      "outputs": [
        {
          "output_type": "stream",
          "name": "stdout",
          "text": "Cognitive services ready at <cognitive key>\n"
        }
      ],
      "execution_count": 1,
      "metadata": {
        "jupyter": {
          "source_hidden": false,
          "outputs_hidden": false
        },
        "nteract": {
          "transient": {
            "deleting": false
          }
        },
        "gather": {
          "logged": 1720920309628
        }
      }
    },
    {
      "cell_type": "code",
      "source": [
        "pip install azure-ai-textanalytics"
      ],
      "outputs": [
        {
          "output_type": "stream",
          "name": "stdout",
          "text": "Requirement already satisfied: azure-ai-textanalytics in /anaconda/envs/azureml_py38/lib/python3.9/site-packages (5.3.0)\nRequirement already satisfied: azure-core<2.0.0,>=1.24.0 in /anaconda/envs/azureml_py38/lib/python3.9/site-packages (from azure-ai-textanalytics) (1.30.1)\nRequirement already satisfied: typing-extensions>=4.0.1 in /anaconda/envs/azureml_py38/lib/python3.9/site-packages (from azure-ai-textanalytics) (4.12.2)\nRequirement already satisfied: isodate<1.0.0,>=0.6.1 in /anaconda/envs/azureml_py38/lib/python3.9/site-packages (from azure-ai-textanalytics) (0.6.1)\nRequirement already satisfied: azure-common~=1.1 in /anaconda/envs/azureml_py38/lib/python3.9/site-packages (from azure-ai-textanalytics) (1.1.28)\nRequirement already satisfied: requests>=2.21.0 in /anaconda/envs/azureml_py38/lib/python3.9/site-packages (from azure-core<2.0.0,>=1.24.0->azure-ai-textanalytics) (2.31.0)\nRequirement already satisfied: six>=1.11.0 in /anaconda/envs/azureml_py38/lib/python3.9/site-packages (from azure-core<2.0.0,>=1.24.0->azure-ai-textanalytics) (1.16.0)\nRequirement already satisfied: urllib3<3,>=1.21.1 in /anaconda/envs/azureml_py38/lib/python3.9/site-packages (from requests>=2.21.0->azure-core<2.0.0,>=1.24.0->azure-ai-textanalytics) (1.26.18)\nRequirement already satisfied: certifi>=2017.4.17 in /anaconda/envs/azureml_py38/lib/python3.9/site-packages (from requests>=2.21.0->azure-core<2.0.0,>=1.24.0->azure-ai-textanalytics) (2022.9.24)\nRequirement already satisfied: idna<4,>=2.5 in /anaconda/envs/azureml_py38/lib/python3.9/site-packages (from requests>=2.21.0->azure-core<2.0.0,>=1.24.0->azure-ai-textanalytics) (3.7)\nRequirement already satisfied: charset-normalizer<4,>=2 in /anaconda/envs/azureml_py38/lib/python3.9/site-packages (from requests>=2.21.0->azure-core<2.0.0,>=1.24.0->azure-ai-textanalytics) (3.3.2)\nNote: you may need to restart the kernel to use updated packages.\n"
        }
      ],
      "execution_count": 2,
      "metadata": {
        "jupyter": {
          "source_hidden": false,
          "outputs_hidden": false
        },
        "nteract": {
          "transient": {
            "deleting": false
          }
        },
        "gather": {
          "logged": 1720920314337
        }
      }
    },
    {
      "cell_type": "code",
      "source": [
        "pip install azureml-core azureml-automl-runtime azureml-train-automl"
      ],
      "outputs": [
        {
          "output_type": "stream",
          "name": "stdout",
          "text": "Requirement already satisfied: azureml-core in /anaconda/envs/azureml_py38/lib/python3.9/site-packages (1.56.0)\nRequirement already satisfied: azureml-automl-runtime in /anaconda/envs/azureml_py38/lib/python3.9/site-packages (1.56.0)\nRequirement already satisfied: azureml-train-automl in /anaconda/envs/azureml_py38/lib/python3.9/site-packages (1.56.0)\nRequirement already satisfied: azure-mgmt-resource<=24.0.0,>=15.0.0 in /anaconda/envs/azureml_py38/lib/python3.9/site-packages (from azureml-core) (23.1.0b2)\nRequirement already satisfied: pyopenssl<25.0.0 in /anaconda/envs/azureml_py38/lib/python3.9/site-packages (from azureml-core) (23.0.0)\nRequirement already satisfied: packaging<=25.0,>=20.0 in /anaconda/envs/azureml_py38/lib/python3.9/site-packages (from azureml-core) (24.0)\nRequirement already satisfied: azure-graphrbac<1.0.0,>=0.40.0 in /anaconda/envs/azureml_py38/lib/python3.9/site-packages (from azureml-core) (0.60.0)\nRequirement already satisfied: SecretStorage<4.0.0 in /anaconda/envs/azureml_py38/lib/python3.9/site-packages (from azureml-core) (3.3.3)\nRequirement already satisfied: azure-mgmt-network<=26.0.0 in /anaconda/envs/azureml_py38/lib/python3.9/site-packages (from azureml-core) (25.1.0)\nRequirement already satisfied: paramiko<4.0.0,>=2.0.8 in /anaconda/envs/azureml_py38/lib/python3.9/site-packages (from azureml-core) (3.4.0)\nRequirement already satisfied: pytz in /anaconda/envs/azureml_py38/lib/python3.9/site-packages (from azureml-core) (2022.5)\nRequirement already satisfied: msrestazure<=0.6.4,>=0.4.33 in /anaconda/envs/azureml_py38/lib/python3.9/site-packages (from azureml-core) (0.6.4)\nRequirement already satisfied: docker<8.0.0 in /anaconda/envs/azureml_py38/lib/python3.9/site-packages (from azureml-core) (7.0.0)\nRequirement already satisfied: azure-mgmt-authorization<5,>=0.40.0 in /anaconda/envs/azureml_py38/lib/python3.9/site-packages (from azureml-core) (4.0.0)\nRequirement already satisfied: backports.tempfile in /anaconda/envs/azureml_py38/lib/python3.9/site-packages (from azureml-core) (1.0)\nRequirement already satisfied: requests[socks]<3.0.0,>=2.19.1 in /anaconda/envs/azureml_py38/lib/python3.9/site-packages (from azureml-core) (2.31.0)\nRequirement already satisfied: urllib3<3.0.0,>1.26.17 in /anaconda/envs/azureml_py38/lib/python3.9/site-packages (from azureml-core) (1.26.18)\nRequirement already satisfied: msrest<=0.7.1,>=0.5.1 in /anaconda/envs/azureml_py38/lib/python3.9/site-packages (from azureml-core) (0.7.1)\nRequirement already satisfied: msal-extensions<=2.0.0,>=0.3.0 in /anaconda/envs/azureml_py38/lib/python3.9/site-packages (from azureml-core) (1.0.0)\nRequirement already satisfied: ndg-httpsclient<=0.5.1 in /anaconda/envs/azureml_py38/lib/python3.9/site-packages (from azureml-core) (0.5.1)\nRequirement already satisfied: humanfriendly<11.0,>=4.7 in /anaconda/envs/azureml_py38/lib/python3.9/site-packages (from azureml-core) (10.0)\nRequirement already satisfied: msal<2.0.0,>=1.15.0 in /anaconda/envs/azureml_py38/lib/python3.9/site-packages (from azureml-core) (1.27.0)\nRequirement already satisfied: PyJWT<3.0.0 in /anaconda/envs/azureml_py38/lib/python3.9/site-packages (from azureml-core) (2.4.0)\nRequirement already satisfied: adal<=1.2.7,>=1.2.0 in /anaconda/envs/azureml_py38/lib/python3.9/site-packages (from azureml-core) (1.2.7)\nRequirement already satisfied: azure-mgmt-storage<=22.0.0,>=16.0.0 in /anaconda/envs/azureml_py38/lib/python3.9/site-packages (from azureml-core) (21.1.0)\nRequirement already satisfied: jmespath<2.0.0 in /anaconda/envs/azureml_py38/lib/python3.9/site-packages (from azureml-core) (0.10.0)\nRequirement already satisfied: azure-mgmt-containerregistry<11,>=8.2.0 in /anaconda/envs/azureml_py38/lib/python3.9/site-packages (from azureml-core) (10.3.0)\nRequirement already satisfied: argcomplete<4 in /anaconda/envs/azureml_py38/lib/python3.9/site-packages (from azureml-core) (3.1.6)\nRequirement already satisfied: pathspec<1.0.0 in /anaconda/envs/azureml_py38/lib/python3.9/site-packages (from azureml-core) (0.12.1)\nRequirement already satisfied: azure-core<2.0.0 in /anaconda/envs/azureml_py38/lib/python3.9/site-packages (from azureml-core) (1.30.1)\nRequirement already satisfied: pkginfo in /anaconda/envs/azureml_py38/lib/python3.9/site-packages (from azureml-core) (1.10.0)\nRequirement already satisfied: azure-mgmt-keyvault<11.0.0,>=0.40.0 in /anaconda/envs/azureml_py38/lib/python3.9/site-packages (from azureml-core) (10.3.0)\nRequirement already satisfied: contextlib2<22.0.0 in /anaconda/envs/azureml_py38/lib/python3.9/site-packages (from azureml-core) (21.6.0)\nRequirement already satisfied: jsonpickle<4.0.0 in /anaconda/envs/azureml_py38/lib/python3.9/site-packages (from azureml-core) (3.0.4)\nRequirement already satisfied: python-dateutil<3.0.0,>=2.7.3 in /anaconda/envs/azureml_py38/lib/python3.9/site-packages (from azureml-core) (2.9.0.post0)\nRequirement already satisfied: azure-common<2.0.0,>=1.1.12 in /anaconda/envs/azureml_py38/lib/python3.9/site-packages (from azureml-core) (1.1.28)\nRequirement already satisfied: knack<0.12.0 in /anaconda/envs/azureml_py38/lib/python3.9/site-packages (from azureml-core) (0.11.0)\nRequirement already satisfied: numpy<=1.23.5,>=1.16.0 in /anaconda/envs/azureml_py38/lib/python3.9/site-packages (from azureml-automl-runtime) (1.22.0)\nRequirement already satisfied: gensim==4.3.2 in /anaconda/envs/azureml_py38/lib/python3.9/site-packages (from azureml-automl-runtime) (4.3.2)\nRequirement already satisfied: lightgbm<=3.2.1,>=3.0.0 in /anaconda/envs/azureml_py38/lib/python3.9/site-packages (from azureml-automl-runtime) (3.2.1)\nRequirement already satisfied: keras2onnx<=1.6.0,>=1.4.0 in /anaconda/envs/azureml_py38/lib/python3.9/site-packages (from azureml-automl-runtime) (1.6.0)\nRequirement already satisfied: sklearn-pandas<=1.7.0,>=1.4.0 in /anaconda/envs/azureml_py38/lib/python3.9/site-packages (from azureml-automl-runtime) (1.7.0)\nRequirement already satisfied: scikit-learn==1.1.3 in /anaconda/envs/azureml_py38/lib/python3.9/site-packages (from azureml-automl-runtime) (1.1.3)\nRequirement already satisfied: smart-open==6.4.0 in /anaconda/envs/azureml_py38/lib/python3.9/site-packages (from azureml-automl-runtime) (6.4.0)\nRequirement already satisfied: onnxconverter-common==1.13.0 in /anaconda/envs/azureml_py38/lib/python3.9/site-packages (from azureml-automl-runtime) (1.13.0)\nRequirement already satisfied: dotnetcore2<4.0.0,>=3.0.0 in /anaconda/envs/azureml_py38/lib/python3.9/site-packages (from azureml-automl-runtime) (3.1.23)\nRequirement already satisfied: dill<0.4.0,>=0.2.8 in /anaconda/envs/azureml_py38/lib/python3.9/site-packages (from azureml-automl-runtime) (0.3.8)\nRequirement already satisfied: botocore<=1.23.19 in /anaconda/envs/azureml_py38/lib/python3.9/site-packages (from azureml-automl-runtime) (1.23.19)\nRequirement already satisfied: onnxruntime~=1.14.0 in /anaconda/envs/azureml_py38/lib/python3.9/site-packages (from azureml-automl-runtime) (1.14.1)\nRequirement already satisfied: pandas==1.3.5 in /anaconda/envs/azureml_py38/lib/python3.9/site-packages (from azureml-automl-runtime) (1.3.5)\nRequirement already satisfied: azureml-automl-core~=1.56.0 in /anaconda/envs/azureml_py38/lib/python3.9/site-packages (from azureml-automl-runtime) (1.56.0)\nRequirement already satisfied: azureml-dataset-runtime[fuse,pandas]~=1.56.0 in /anaconda/envs/azureml_py38/lib/python3.9/site-packages (from azureml-automl-runtime) (1.56.0)\nRequirement already satisfied: joblib==1.2.0 in /anaconda/envs/azureml_py38/lib/python3.9/site-packages (from azureml-automl-runtime) (1.2.0)\nRequirement already satisfied: protobuf<=3.20.3 in /anaconda/envs/azureml_py38/lib/python3.9/site-packages (from azureml-automl-runtime) (3.20.3)\nRequirement already satisfied: psutil<5.9.4,>=5.2.2 in /anaconda/envs/azureml_py38/lib/python3.9/site-packages (from azureml-automl-runtime) (5.9.3)\nRequirement already satisfied: scipy<=1.11.0,>=1.0.0 in /anaconda/envs/azureml_py38/lib/python3.9/site-packages (from azureml-automl-runtime) (1.10.1)\nRequirement already satisfied: onnxmltools==1.11.2 in /anaconda/envs/azureml_py38/lib/python3.9/site-packages (from azureml-automl-runtime) (1.11.2)\nRequirement already satisfied: pmdarima==1.8.5 in /anaconda/envs/azureml_py38/lib/python3.9/site-packages (from azureml-automl-runtime) (1.8.5)\nRequirement already satisfied: azureml-training-tabular~=1.56.0 in /anaconda/envs/azureml_py38/lib/python3.9/site-packages (from azureml-automl-runtime) (1.56.0)\nRequirement already satisfied: dataclasses<=0.8,>=0.6 in /anaconda/envs/azureml_py38/lib/python3.9/site-packages (from azureml-automl-runtime) (0.6)\nRequirement already satisfied: boto3<=1.20.19 in /anaconda/envs/azureml_py38/lib/python3.9/site-packages (from azureml-automl-runtime) (1.20.19)\nRequirement already satisfied: arch<=5.6.0 in /anaconda/envs/azureml_py38/lib/python3.9/site-packages (from azureml-automl-runtime) (5.6.0)\nRequirement already satisfied: skl2onnx==1.14.1 in /anaconda/envs/azureml_py38/lib/python3.9/site-packages (from azureml-automl-runtime) (1.14.1)\nRequirement already satisfied: onnx<=1.14.1,>=1.14.0 in /anaconda/envs/azureml_py38/lib/python3.9/site-packages (from azureml-automl-runtime) (1.14.1)\nRequirement already satisfied: statsmodels<0.14,>=0.13.0 in /anaconda/envs/azureml_py38/lib/python3.9/site-packages (from azureml-automl-runtime) (0.13.5)\nRequirement already satisfied: setuptools!=50.0.0,>=38.6.0 in /anaconda/envs/azureml_py38/lib/python3.9/site-packages (from pmdarima==1.8.5->azureml-automl-runtime) (68.0.0)\nRequirement already satisfied: Cython!=0.29.18,>=0.29 in /anaconda/envs/azureml_py38/lib/python3.9/site-packages (from pmdarima==1.8.5->azureml-automl-runtime) (3.0.10)\nRequirement already satisfied: threadpoolctl>=2.0.0 in /anaconda/envs/azureml_py38/lib/python3.9/site-packages (from scikit-learn==1.1.3->azureml-automl-runtime) (3.4.0)\nRequirement already satisfied: azureml-train-automl-client~=1.56.0 in /anaconda/envs/azureml_py38/lib/python3.9/site-packages (from azureml-train-automl) (1.56.0)\nRequirement already satisfied: azureml-responsibleai~=1.56.0 in /anaconda/envs/azureml_py38/lib/python3.9/site-packages (from azureml-train-automl) (1.56.0)\nRequirement already satisfied: azureml-train-automl-runtime~=1.56.0 in /anaconda/envs/azureml_py38/lib/python3.9/site-packages (from azureml-train-automl) (1.56.0)\nRequirement already satisfied: cryptography>=1.1.0 in /anaconda/envs/azureml_py38/lib/python3.9/site-packages (from adal<=1.2.7,>=1.2.0->azureml-core) (38.0.4)\nRequirement already satisfied: property-cached>=1.6.4 in /anaconda/envs/azureml_py38/lib/python3.9/site-packages (from arch<=5.6.0->azureml-automl-runtime) (1.6.4)\nRequirement already satisfied: six>=1.11.0 in /anaconda/envs/azureml_py38/lib/python3.9/site-packages (from azure-core<2.0.0->azureml-core) (1.16.0)\nRequirement already satisfied: typing-extensions>=4.6.0 in /anaconda/envs/azureml_py38/lib/python3.9/site-packages (from azure-core<2.0.0->azureml-core) (4.12.2)\nRequirement already satisfied: azure-mgmt-core<2.0.0,>=1.3.2 in /anaconda/envs/azureml_py38/lib/python3.9/site-packages (from azure-mgmt-authorization<5,>=0.40.0->azureml-core) (1.4.0)\nRequirement already satisfied: isodate<1.0.0,>=0.6.1 in /anaconda/envs/azureml_py38/lib/python3.9/site-packages (from azure-mgmt-authorization<5,>=0.40.0->azureml-core) (0.6.1)\nRequirement already satisfied: azureml-telemetry~=1.56.0 in /anaconda/envs/azureml_py38/lib/python3.9/site-packages (from azureml-automl-core~=1.56.0->azureml-automl-runtime) (1.56.0)\nRequirement already satisfied: azureml-dataprep<5.2.0a,>=5.1.0a in /anaconda/envs/azureml_py38/lib/python3.9/site-packages (from azureml-dataset-runtime[fuse,pandas]~=1.56.0->azureml-automl-runtime) (5.1.6)\nRequirement already satisfied: pyarrow>=0.17.0 in /anaconda/envs/azureml_py38/lib/python3.9/site-packages (from azureml-dataset-runtime[fuse,pandas]~=1.56.0->azureml-automl-runtime) (14.0.2)\nRequirement already satisfied: fusepy<4.0.0,>=3.0.1 in /anaconda/envs/azureml_py38/lib/python3.9/site-packages (from azureml-dataset-runtime[fuse,pandas]~=1.56.0->azureml-automl-runtime) (3.0.1)\nRequirement already satisfied: responsibleai==0.33.0 in /anaconda/envs/azureml_py38/lib/python3.9/site-packages (from azureml-responsibleai~=1.56.0->azureml-train-automl) (0.33.0)\nRequirement already satisfied: fairlearn==0.7.0 in /anaconda/envs/azureml_py38/lib/python3.9/site-packages (from azureml-responsibleai~=1.56.0->azureml-train-automl) (0.7.0)\nRequirement already satisfied: azureml-interpret~=1.56.0 in /anaconda/envs/azureml_py38/lib/python3.9/site-packages (from azureml-responsibleai~=1.56.0->azureml-train-automl) (1.56.0)\nRequirement already satisfied: jsonschema in /anaconda/envs/azureml_py38/lib/python3.9/site-packages (from azureml-responsibleai~=1.56.0->azureml-train-automl) (4.21.1)\nRequirement already satisfied: ipykernel<=6.8.0 in /anaconda/envs/azureml_py38/lib/python3.9/site-packages (from responsibleai==0.33.0->azureml-responsibleai~=1.56.0->azureml-train-automl) (6.8.0)\nRequirement already satisfied: erroranalysis>=0.5.3 in /anaconda/envs/azureml_py38/lib/python3.9/site-packages (from responsibleai==0.33.0->azureml-responsibleai~=1.56.0->azureml-train-automl) (0.5.4)\nRequirement already satisfied: semver~=2.13.0 in /anaconda/envs/azureml_py38/lib/python3.9/site-packages (from responsibleai==0.33.0->azureml-responsibleai~=1.56.0->azureml-train-automl) (2.13.0)\nRequirement already satisfied: interpret-community>=0.30.0 in /anaconda/envs/azureml_py38/lib/python3.9/site-packages (from responsibleai==0.33.0->azureml-responsibleai~=1.56.0->azureml-train-automl) (0.31.0)\nRequirement already satisfied: networkx<=2.5 in /anaconda/envs/azureml_py38/lib/python3.9/site-packages (from responsibleai==0.33.0->azureml-responsibleai~=1.56.0->azureml-train-automl) (2.5)\nRequirement already satisfied: markupsafe<=2.1.2 in /anaconda/envs/azureml_py38/lib/python3.9/site-packages (from responsibleai==0.33.0->azureml-responsibleai~=1.56.0->azureml-train-automl) (2.0.1)\nRequirement already satisfied: raiutils>=0.4.0 in /anaconda/envs/azureml_py38/lib/python3.9/site-packages (from responsibleai==0.33.0->azureml-responsibleai~=1.56.0->azureml-train-automl) (0.4.2)\nRequirement already satisfied: dice-ml<0.12,>=0.11 in /anaconda/envs/azureml_py38/lib/python3.9/site-packages (from responsibleai==0.33.0->azureml-responsibleai~=1.56.0->azureml-train-automl) (0.11)\nRequirement already satisfied: econml>=0.14.1 in /anaconda/envs/azureml_py38/lib/python3.9/site-packages (from responsibleai==0.33.0->azureml-responsibleai~=1.56.0->azureml-train-automl) (0.15.0)\nRequirement already satisfied: numba<=0.58.1 in /anaconda/envs/azureml_py38/lib/python3.9/site-packages (from responsibleai==0.33.0->azureml-responsibleai~=1.56.0->azureml-train-automl) (0.56.4)\nRequirement already satisfied: ml-wrappers in /anaconda/envs/azureml_py38/lib/python3.9/site-packages (from responsibleai==0.33.0->azureml-responsibleai~=1.56.0->azureml-train-automl) (0.5.5)\nRequirement already satisfied: azureml-train-core~=1.56.0 in /anaconda/envs/azureml_py38/lib/python3.9/site-packages (from azureml-train-automl-client~=1.56.0->azureml-train-automl) (1.56.0)\nRequirement already satisfied: azureml-mlflow~=1.56.0 in /anaconda/envs/azureml_py38/lib/python3.9/site-packages (from azureml-train-automl-runtime~=1.56.0->azureml-train-automl) (1.56.0)\nRequirement already satisfied: azure-storage-queue~=12.1 in /anaconda/envs/azureml_py38/lib/python3.9/site-packages (from azureml-train-automl-runtime~=1.56.0->azureml-train-automl) (12.9.0)\nRequirement already satisfied: pyyaml<7.0.0 in /anaconda/envs/azureml_py38/lib/python3.9/site-packages (from azureml-train-automl-runtime~=1.56.0->azureml-train-automl) (6.0.1)\nRequirement already satisfied: jinja2<4 in /anaconda/envs/azureml_py38/lib/python3.9/site-packages (from azureml-train-automl-runtime~=1.56.0->azureml-train-automl) (2.11.2)\nRequirement already satisfied: dask[complete]<=2023.2.0 in /anaconda/envs/azureml_py38/lib/python3.9/site-packages (from azureml-train-automl-runtime~=1.56.0->azureml-train-automl) (2023.2.0)\nRequirement already satisfied: bokeh<3.0.0 in /anaconda/envs/azureml_py38/lib/python3.9/site-packages (from azureml-train-automl-runtime~=1.56.0->azureml-train-automl) (2.4.3)\nRequirement already satisfied: s3transfer<0.6.0,>=0.5.0 in /anaconda/envs/azureml_py38/lib/python3.9/site-packages (from boto3<=1.20.19->azureml-automl-runtime) (0.5.2)\nRequirement already satisfied: distro>=1.2.0 in /anaconda/envs/azureml_py38/lib/python3.9/site-packages (from dotnetcore2<4.0.0,>=3.0.0->azureml-automl-runtime) (1.9.0)\nRequirement already satisfied: fire in /anaconda/envs/azureml_py38/lib/python3.9/site-packages (from keras2onnx<=1.6.0,>=1.4.0->azureml-automl-runtime) (0.6.0)\nRequirement already satisfied: tabulate in /anaconda/envs/azureml_py38/lib/python3.9/site-packages (from knack<0.12.0->azureml-core) (0.9.0)\nRequirement already satisfied: pygments in /anaconda/envs/azureml_py38/lib/python3.9/site-packages (from knack<0.12.0->azureml-core) (2.18.0)\nRequirement already satisfied: wheel in /anaconda/envs/azureml_py38/lib/python3.9/site-packages (from lightgbm<=3.2.1,>=3.0.0->azureml-automl-runtime) (0.41.2)\nRequirement already satisfied: portalocker<3,>=1.0 in /anaconda/envs/azureml_py38/lib/python3.9/site-packages (from msal-extensions<=2.0.0,>=0.3.0->azureml-core) (2.8.2)\nRequirement already satisfied: requests-oauthlib>=0.5.0 in /anaconda/envs/azureml_py38/lib/python3.9/site-packages (from msrest<=0.7.1,>=0.5.1->azureml-core) (2.0.0)\nRequirement already satisfied: certifi>=2017.4.17 in /anaconda/envs/azureml_py38/lib/python3.9/site-packages (from msrest<=0.7.1,>=0.5.1->azureml-core) (2022.9.24)\nRequirement already satisfied: pyasn1>=0.1.1 in /anaconda/envs/azureml_py38/lib/python3.9/site-packages (from ndg-httpsclient<=0.5.1->azureml-core) (0.6.0)\nRequirement already satisfied: coloredlogs in /anaconda/envs/azureml_py38/lib/python3.9/site-packages (from onnxruntime~=1.14.0->azureml-automl-runtime) (15.0.1)\nRequirement already satisfied: sympy in /anaconda/envs/azureml_py38/lib/python3.9/site-packages (from onnxruntime~=1.14.0->azureml-automl-runtime) (1.12)\nRequirement already satisfied: flatbuffers in /anaconda/envs/azureml_py38/lib/python3.9/site-packages (from onnxruntime~=1.14.0->azureml-automl-runtime) (24.3.25)\nRequirement already satisfied: pynacl>=1.5 in /anaconda/envs/azureml_py38/lib/python3.9/site-packages (from paramiko<4.0.0,>=2.0.8->azureml-core) (1.5.0)\nRequirement already satisfied: bcrypt>=3.2 in /anaconda/envs/azureml_py38/lib/python3.9/site-packages (from paramiko<4.0.0,>=2.0.8->azureml-core) (4.1.2)\nRequirement already satisfied: idna<4,>=2.5 in /anaconda/envs/azureml_py38/lib/python3.9/site-packages (from requests[socks]<3.0.0,>=2.19.1->azureml-core) (3.7)\nRequirement already satisfied: charset-normalizer<4,>=2 in /anaconda/envs/azureml_py38/lib/python3.9/site-packages (from requests[socks]<3.0.0,>=2.19.1->azureml-core) (3.3.2)\nRequirement already satisfied: PySocks!=1.5.7,>=1.5.6 in /anaconda/envs/azureml_py38/lib/python3.9/site-packages (from requests[socks]<3.0.0,>=2.19.1->azureml-core) (1.7.1)\nRequirement already satisfied: jeepney>=0.6 in /anaconda/envs/azureml_py38/lib/python3.9/site-packages (from SecretStorage<4.0.0->azureml-core) (0.8.0)\nRequirement already satisfied: patsy>=0.5.2 in /anaconda/envs/azureml_py38/lib/python3.9/site-packages (from statsmodels<0.14,>=0.13.0->azureml-automl-runtime) (0.5.6)\nRequirement already satisfied: backports.weakref in /anaconda/envs/azureml_py38/lib/python3.9/site-packages (from backports.tempfile->azureml-core) (1.0.post1)\nRequirement already satisfied: azureml-dataprep-rslex~=2.22.2dev0 in /anaconda/envs/azureml_py38/lib/python3.9/site-packages (from azureml-dataprep<5.2.0a,>=5.1.0a->azureml-dataset-runtime[fuse,pandas]~=1.56.0->azureml-automl-runtime) (2.22.2)\nRequirement already satisfied: azure-identity>=1.7.0 in /anaconda/envs/azureml_py38/lib/python3.9/site-packages (from azureml-dataprep<5.2.0a,>=5.1.0a->azureml-dataset-runtime[fuse,pandas]~=1.56.0->azureml-automl-runtime) (1.16.0)\nRequirement already satisfied: azureml-dataprep-native<42.0.0,>=41.0.0 in /anaconda/envs/azureml_py38/lib/python3.9/site-packages (from azureml-dataprep<5.2.0a,>=5.1.0a->azureml-dataset-runtime[fuse,pandas]~=1.56.0->azureml-automl-runtime) (41.0.0)\nRequirement already satisfied: cloudpickle<3.0.0,>=1.1.0 in /anaconda/envs/azureml_py38/lib/python3.9/site-packages (from azureml-dataprep<5.2.0a,>=5.1.0a->azureml-dataset-runtime[fuse,pandas]~=1.56.0->azureml-automl-runtime) (1.6.0)\nRequirement already satisfied: shap<=0.44.0,>=0.20.0 in /anaconda/envs/azureml_py38/lib/python3.9/site-packages (from interpret-community>=0.30.0->responsibleai==0.33.0->azureml-responsibleai~=1.56.0->azureml-train-automl) (0.43.0)\nRequirement already satisfied: interpret-core<=0.5.0,>=0.1.20 in /anaconda/envs/azureml_py38/lib/python3.9/site-packages (from interpret-community>=0.30.0->responsibleai==0.33.0->azureml-responsibleai~=1.56.0->azureml-train-automl) (0.5.0)\nRequirement already satisfied: azure-storage-blob<=12.19.0,>=12.5.0 in /anaconda/envs/azureml_py38/lib/python3.9/site-packages (from azureml-mlflow~=1.56.0->azureml-train-automl-runtime~=1.56.0->azureml-train-automl) (12.13.0)\nRequirement already satisfied: mlflow-skinny in /anaconda/envs/azureml_py38/lib/python3.9/site-packages (from azureml-mlflow~=1.56.0->azureml-train-automl-runtime~=1.56.0->azureml-train-automl) (2.12.1)\nRequirement already satisfied: applicationinsights in /anaconda/envs/azureml_py38/lib/python3.9/site-packages (from azureml-telemetry~=1.56.0->azureml-automl-core~=1.56.0->azureml-automl-runtime) (0.11.10)\nRequirement already satisfied: azureml-train-restclients-hyperdrive~=1.56.0 in /anaconda/envs/azureml_py38/lib/python3.9/site-packages (from azureml-train-core~=1.56.0->azureml-train-automl-client~=1.56.0->azureml-train-automl) (1.56.0)\nRequirement already satisfied: tornado>=5.1 in /anaconda/envs/azureml_py38/lib/python3.9/site-packages (from bokeh<3.0.0->azureml-train-automl-runtime~=1.56.0->azureml-train-automl) (6.4)\nRequirement already satisfied: pillow>=7.1.0 in /anaconda/envs/azureml_py38/lib/python3.9/site-packages (from bokeh<3.0.0->azureml-train-automl-runtime~=1.56.0->azureml-train-automl) (9.2.0)\nRequirement already satisfied: cffi>=1.12 in /anaconda/envs/azureml_py38/lib/python3.9/site-packages (from cryptography>=1.1.0->adal<=1.2.7,>=1.2.0->azureml-core) (1.16.0)\nRequirement already satisfied: toolz>=0.8.2 in /anaconda/envs/azureml_py38/lib/python3.9/site-packages (from dask[complete]<=2023.2.0->azureml-train-automl-runtime~=1.56.0->azureml-train-automl) (0.12.1)\nRequirement already satisfied: partd>=0.3.10 in /anaconda/envs/azureml_py38/lib/python3.9/site-packages (from dask[complete]<=2023.2.0->azureml-train-automl-runtime~=1.56.0->azureml-train-automl) (1.4.1)\nRequirement already satisfied: fsspec>=0.6.0 in /anaconda/envs/azureml_py38/lib/python3.9/site-packages (from dask[complete]<=2023.2.0->azureml-train-automl-runtime~=1.56.0->azureml-train-automl) (2024.3.1)\nRequirement already satisfied: click>=7.0 in /anaconda/envs/azureml_py38/lib/python3.9/site-packages (from dask[complete]<=2023.2.0->azureml-train-automl-runtime~=1.56.0->azureml-train-automl) (8.1.7)\nRequirement already satisfied: distributed==2023.2.0 in /anaconda/envs/azureml_py38/lib/python3.9/site-packages (from dask[complete]<=2023.2.0->azureml-train-automl-runtime~=1.56.0->azureml-train-automl) (2023.2.0)\nRequirement already satisfied: msgpack>=1.0.0 in /anaconda/envs/azureml_py38/lib/python3.9/site-packages (from distributed==2023.2.0->dask[complete]<=2023.2.0->azureml-train-automl-runtime~=1.56.0->azureml-train-automl) (1.0.8)\nRequirement already satisfied: locket>=1.0.0 in /anaconda/envs/azureml_py38/lib/python3.9/site-packages (from distributed==2023.2.0->dask[complete]<=2023.2.0->azureml-train-automl-runtime~=1.56.0->azureml-train-automl) (1.0.0)\nRequirement already satisfied: sortedcontainers>=2.0.5 in /anaconda/envs/azureml_py38/lib/python3.9/site-packages (from distributed==2023.2.0->dask[complete]<=2023.2.0->azureml-train-automl-runtime~=1.56.0->azureml-train-automl) (2.4.0)\nRequirement already satisfied: tblib>=1.6.0 in /anaconda/envs/azureml_py38/lib/python3.9/site-packages (from distributed==2023.2.0->dask[complete]<=2023.2.0->azureml-train-automl-runtime~=1.56.0->azureml-train-automl) (3.0.0)\nRequirement already satisfied: zict>=2.1.0 in /anaconda/envs/azureml_py38/lib/python3.9/site-packages (from distributed==2023.2.0->dask[complete]<=2023.2.0->azureml-train-automl-runtime~=1.56.0->azureml-train-automl) (3.0.0)\nRequirement already satisfied: oauthlib>=3.0.0 in /anaconda/envs/azureml_py38/lib/python3.9/site-packages (from requests-oauthlib>=0.5.0->msrest<=0.7.1,>=0.5.1->azureml-core) (3.2.2)\nRequirement already satisfied: termcolor in /anaconda/envs/azureml_py38/lib/python3.9/site-packages (from fire->keras2onnx<=1.6.0,>=1.4.0->azureml-automl-runtime) (2.4.0)\nRequirement already satisfied: jsonschema-specifications>=2023.03.6 in /anaconda/envs/azureml_py38/lib/python3.9/site-packages (from jsonschema->azureml-responsibleai~=1.56.0->azureml-train-automl) (2023.12.1)\nRequirement already satisfied: referencing>=0.28.4 in /anaconda/envs/azureml_py38/lib/python3.9/site-packages (from jsonschema->azureml-responsibleai~=1.56.0->azureml-train-automl) (0.35.0)\nRequirement already satisfied: rpds-py>=0.7.1 in /anaconda/envs/azureml_py38/lib/python3.9/site-packages (from jsonschema->azureml-responsibleai~=1.56.0->azureml-train-automl) (0.18.0)\nRequirement already satisfied: attrs>=22.2.0 in /anaconda/envs/azureml_py38/lib/python3.9/site-packages (from jsonschema->azureml-responsibleai~=1.56.0->azureml-train-automl) (23.2.0)\nRequirement already satisfied: mpmath>=0.19 in /anaconda/envs/azureml_py38/lib/python3.9/site-packages (from sympy->onnxruntime~=1.14.0->azureml-automl-runtime) (1.3.0)\nRequirement already satisfied: pycparser in /anaconda/envs/azureml_py38/lib/python3.9/site-packages (from cffi>=1.12->cryptography>=1.1.0->adal<=1.2.7,>=1.2.0->azureml-core) (2.22)\nRequirement already satisfied: tqdm in /anaconda/envs/azureml_py38/lib/python3.9/site-packages (from dice-ml<0.12,>=0.11->responsibleai==0.33.0->azureml-responsibleai~=1.56.0->azureml-train-automl) (4.66.2)\nRequirement already satisfied: sparse in /anaconda/envs/azureml_py38/lib/python3.9/site-packages (from econml>=0.14.1->responsibleai==0.33.0->azureml-responsibleai~=1.56.0->azureml-train-automl) (0.15.1)\nRequirement already satisfied: traitlets<6.0,>=5.1.0 in /anaconda/envs/azureml_py38/lib/python3.9/site-packages (from ipykernel<=6.8.0->responsibleai==0.33.0->azureml-responsibleai~=1.56.0->azureml-train-automl) (5.14.3)\nRequirement already satisfied: jupyter-client<8.0 in /anaconda/envs/azureml_py38/lib/python3.9/site-packages (from ipykernel<=6.8.0->responsibleai==0.33.0->azureml-responsibleai~=1.56.0->azureml-train-automl) (7.4.9)\nRequirement already satisfied: matplotlib-inline<0.2.0,>=0.1.0 in /anaconda/envs/azureml_py38/lib/python3.9/site-packages (from ipykernel<=6.8.0->responsibleai==0.33.0->azureml-responsibleai~=1.56.0->azureml-train-automl) (0.1.7)\nRequirement already satisfied: nest-asyncio in /anaconda/envs/azureml_py38/lib/python3.9/site-packages (from ipykernel<=6.8.0->responsibleai==0.33.0->azureml-responsibleai~=1.56.0->azureml-train-automl) (1.6.0)\nRequirement already satisfied: debugpy<2.0,>=1.0.0 in /anaconda/envs/azureml_py38/lib/python3.9/site-packages (from ipykernel<=6.8.0->responsibleai==0.33.0->azureml-responsibleai~=1.56.0->azureml-train-automl) (1.8.1)\nRequirement already satisfied: ipython>=7.23.1 in /anaconda/envs/azureml_py38/lib/python3.9/site-packages (from ipykernel<=6.8.0->responsibleai==0.33.0->azureml-responsibleai~=1.56.0->azureml-train-automl) (8.18.1)\nRequirement already satisfied: decorator>=4.3.0 in /anaconda/envs/azureml_py38/lib/python3.9/site-packages (from networkx<=2.5->responsibleai==0.33.0->azureml-responsibleai~=1.56.0->azureml-train-automl) (5.1.1)\nRequirement already satisfied: llvmlite<0.40,>=0.39.0dev0 in /anaconda/envs/azureml_py38/lib/python3.9/site-packages (from numba<=0.58.1->responsibleai==0.33.0->azureml-responsibleai~=1.56.0->azureml-train-automl) (0.39.1)\nRequirement already satisfied: entrypoints<1 in /anaconda/envs/azureml_py38/lib/python3.9/site-packages (from mlflow-skinny->azureml-mlflow~=1.56.0->azureml-train-automl-runtime~=1.56.0->azureml-train-automl) (0.4)\nRequirement already satisfied: gitpython<4,>=3.1.9 in /anaconda/envs/azureml_py38/lib/python3.9/site-packages (from mlflow-skinny->azureml-mlflow~=1.56.0->azureml-train-automl-runtime~=1.56.0->azureml-train-automl) (3.1.43)\nRequirement already satisfied: sqlparse<1,>=0.4.0 in /anaconda/envs/azureml_py38/lib/python3.9/site-packages (from mlflow-skinny->azureml-mlflow~=1.56.0->azureml-train-automl-runtime~=1.56.0->azureml-train-automl) (0.5.0)\nRequirement already satisfied: importlib-metadata!=4.7.0,<8,>=3.7.0 in /anaconda/envs/azureml_py38/lib/python3.9/site-packages (from mlflow-skinny->azureml-mlflow~=1.56.0->azureml-train-automl-runtime~=1.56.0->azureml-train-automl) (7.1.0)\nRequirement already satisfied: gitdb<5,>=4.0.1 in /anaconda/envs/azureml_py38/lib/python3.9/site-packages (from gitpython<4,>=3.1.9->mlflow-skinny->azureml-mlflow~=1.56.0->azureml-train-automl-runtime~=1.56.0->azureml-train-automl) (4.0.11)\nRequirement already satisfied: zipp>=0.5 in /anaconda/envs/azureml_py38/lib/python3.9/site-packages (from importlib-metadata!=4.7.0,<8,>=3.7.0->mlflow-skinny->azureml-mlflow~=1.56.0->azureml-train-automl-runtime~=1.56.0->azureml-train-automl) (3.12.0)\nRequirement already satisfied: pexpect>4.3 in /anaconda/envs/azureml_py38/lib/python3.9/site-packages (from ipython>=7.23.1->ipykernel<=6.8.0->responsibleai==0.33.0->azureml-responsibleai~=1.56.0->azureml-train-automl) (4.9.0)\nRequirement already satisfied: jedi>=0.16 in /anaconda/envs/azureml_py38/lib/python3.9/site-packages (from ipython>=7.23.1->ipykernel<=6.8.0->responsibleai==0.33.0->azureml-responsibleai~=1.56.0->azureml-train-automl) (0.18.0)\nRequirement already satisfied: prompt-toolkit<3.1.0,>=3.0.41 in /anaconda/envs/azureml_py38/lib/python3.9/site-packages (from ipython>=7.23.1->ipykernel<=6.8.0->responsibleai==0.33.0->azureml-responsibleai~=1.56.0->azureml-train-automl) (3.0.43)\nRequirement already satisfied: exceptiongroup in /anaconda/envs/azureml_py38/lib/python3.9/site-packages (from ipython>=7.23.1->ipykernel<=6.8.0->responsibleai==0.33.0->azureml-responsibleai~=1.56.0->azureml-train-automl) (1.2.1)\nRequirement already satisfied: stack-data in /anaconda/envs/azureml_py38/lib/python3.9/site-packages (from ipython>=7.23.1->ipykernel<=6.8.0->responsibleai==0.33.0->azureml-responsibleai~=1.56.0->azureml-train-automl) (0.6.3)\nRequirement already satisfied: pyzmq>=23.0 in /anaconda/envs/azureml_py38/lib/python3.9/site-packages (from jupyter-client<8.0->ipykernel<=6.8.0->responsibleai==0.33.0->azureml-responsibleai~=1.56.0->azureml-train-automl) (26.0.2)\nRequirement already satisfied: jupyter-core>=4.9.2 in /anaconda/envs/azureml_py38/lib/python3.9/site-packages (from jupyter-client<8.0->ipykernel<=6.8.0->responsibleai==0.33.0->azureml-responsibleai~=1.56.0->azureml-train-automl) (5.7.2)\nRequirement already satisfied: slicer==0.0.7 in /anaconda/envs/azureml_py38/lib/python3.9/site-packages (from shap<=0.44.0,>=0.20.0->interpret-community>=0.30.0->responsibleai==0.33.0->azureml-responsibleai~=1.56.0->azureml-train-automl) (0.0.7)\nRequirement already satisfied: smmap<6,>=3.0.1 in /anaconda/envs/azureml_py38/lib/python3.9/site-packages (from gitdb<5,>=4.0.1->gitpython<4,>=3.1.9->mlflow-skinny->azureml-mlflow~=1.56.0->azureml-train-automl-runtime~=1.56.0->azureml-train-automl) (5.0.1)\nRequirement already satisfied: parso<0.9.0,>=0.8.0 in /anaconda/envs/azureml_py38/lib/python3.9/site-packages (from jedi>=0.16->ipython>=7.23.1->ipykernel<=6.8.0->responsibleai==0.33.0->azureml-responsibleai~=1.56.0->azureml-train-automl) (0.8.4)\nRequirement already satisfied: platformdirs>=2.5 in /anaconda/envs/azureml_py38/lib/python3.9/site-packages (from jupyter-core>=4.9.2->jupyter-client<8.0->ipykernel<=6.8.0->responsibleai==0.33.0->azureml-responsibleai~=1.56.0->azureml-train-automl) (4.2.1)\nRequirement already satisfied: ptyprocess>=0.5 in /anaconda/envs/azureml_py38/lib/python3.9/site-packages (from pexpect>4.3->ipython>=7.23.1->ipykernel<=6.8.0->responsibleai==0.33.0->azureml-responsibleai~=1.56.0->azureml-train-automl) (0.7.0)\nRequirement already satisfied: wcwidth in /anaconda/envs/azureml_py38/lib/python3.9/site-packages (from prompt-toolkit<3.1.0,>=3.0.41->ipython>=7.23.1->ipykernel<=6.8.0->responsibleai==0.33.0->azureml-responsibleai~=1.56.0->azureml-train-automl) (0.2.13)\nRequirement already satisfied: executing>=1.2.0 in /anaconda/envs/azureml_py38/lib/python3.9/site-packages (from stack-data->ipython>=7.23.1->ipykernel<=6.8.0->responsibleai==0.33.0->azureml-responsibleai~=1.56.0->azureml-train-automl) (2.0.1)\nRequirement already satisfied: pure-eval in /anaconda/envs/azureml_py38/lib/python3.9/site-packages (from stack-data->ipython>=7.23.1->ipykernel<=6.8.0->responsibleai==0.33.0->azureml-responsibleai~=1.56.0->azureml-train-automl) (0.2.2)\nRequirement already satisfied: asttokens>=2.1.0 in /anaconda/envs/azureml_py38/lib/python3.9/site-packages (from stack-data->ipython>=7.23.1->ipykernel<=6.8.0->responsibleai==0.33.0->azureml-responsibleai~=1.56.0->azureml-train-automl) (2.4.1)\nNote: you may need to restart the kernel to use updated packages.\n"
        }
      ],
      "execution_count": 3,
      "metadata": {
        "jupyter": {
          "source_hidden": false,
          "outputs_hidden": false
        },
        "nteract": {
          "transient": {
            "deleting": false
          }
        },
        "gather": {
          "logged": 1720920321566
        }
      }
    },
    {
      "cell_type": "code",
      "source": [
        "pip install spotipy"
      ],
      "outputs": [
        {
          "output_type": "stream",
          "name": "stdout",
          "text": "Requirement already satisfied: spotipy in /anaconda/envs/azureml_py38/lib/python3.9/site-packages (2.24.0)\nRequirement already satisfied: urllib3>=1.26.0 in /anaconda/envs/azureml_py38/lib/python3.9/site-packages (from spotipy) (1.26.18)\nRequirement already satisfied: requests>=2.25.0 in /anaconda/envs/azureml_py38/lib/python3.9/site-packages (from spotipy) (2.31.0)\nRequirement already satisfied: redis>=3.5.3 in /anaconda/envs/azureml_py38/lib/python3.9/site-packages (from spotipy) (5.0.7)\nRequirement already satisfied: async-timeout>=4.0.3 in /anaconda/envs/azureml_py38/lib/python3.9/site-packages (from redis>=3.5.3->spotipy) (4.0.3)\nRequirement already satisfied: idna<4,>=2.5 in /anaconda/envs/azureml_py38/lib/python3.9/site-packages (from requests>=2.25.0->spotipy) (3.7)\nRequirement already satisfied: certifi>=2017.4.17 in /anaconda/envs/azureml_py38/lib/python3.9/site-packages (from requests>=2.25.0->spotipy) (2022.9.24)\nRequirement already satisfied: charset-normalizer<4,>=2 in /anaconda/envs/azureml_py38/lib/python3.9/site-packages (from requests>=2.25.0->spotipy) (3.3.2)\nNote: you may need to restart the kernel to use updated packages.\n"
        }
      ],
      "execution_count": 4,
      "metadata": {
        "jupyter": {
          "source_hidden": false,
          "outputs_hidden": false
        },
        "nteract": {
          "transient": {
            "deleting": false
          }
        },
        "gather": {
          "logged": 1720920326195
        }
      }
    },
    {
      "cell_type": "code",
      "source": [
        "from azure.core.credentials import AzureKeyCredential\n",
        "from azure.ai.textanalytics import TextAnalyticsClient\n",
        "\n",
        "credential = AzureKeyCredential(cognitive_key)\n",
        "text_analytics_client = TextAnalyticsClient(endpoint=cognitive_endpoint, credential=credential)"
      ],
      "outputs": [],
      "execution_count": 5,
      "metadata": {
        "jupyter": {
          "source_hidden": false,
          "outputs_hidden": false
        },
        "nteract": {
          "transient": {
            "deleting": false
          }
        },
        "gather": {
          "logged": 1720920326480
        }
      }
    },
    {
      "cell_type": "code",
      "source": [
        "from azure.ai.textanalytics import TextAnalyticsClient\n",
        "from azure.core.credentials import AzureKeyCredential\n",
        "import spotipy\n",
        "from spotipy.oauth2 import SpotifyClientCredentials\n",
        "import json\n",
        "\n",
        "# Azure Text Analytics configuration\n",
        "azure_key = \"<cognitive key>\"\n",
        "azure_endpoint = \"<cognitive endpoint>\"\n",
        "\n",
        "# Spotify configuration\n",
        "spotify_client_id = \"<Spotify Client ID>\"\n",
        "spotify_client_secret = \"<Spotify Client Secret>\"\n",
        "\n",
        "# Authenticate with Azure Text Analytics\n",
        "def authenticate_azure_client(key, endpoint):\n",
        "    credential = AzureKeyCredential(key)\n",
        "    text_analytics_client = TextAnalyticsClient(endpoint=endpoint, credential=credential)\n",
        "        'negative': '37i9dQZF1DX3rxVfibe1L0'  # Example playlist ID for sad mood\n",
        "    }\n",
        "    playlist_id = mood_playlists.get(mood, mood_playlists['neutral'])\n",
        "    results = spotify_client.playlist_tracks(playlist_id)\n",
        "    tracks = results['items']\n",
        "    recommendations = [{\"name\": track[\"track\"][\"name\"], \"artist\": track[\"track\"][\"artists\"][0][\"name\"], \"url\": track[\"track\"][\"external_urls\"][\"spotify\"]} for track in tracks]\n",
        "    return recommendations\n",
        "\n",
        "# Main function to integrate sentiment analysis and song recommendation\n",
        "def suggest_songs_based_on_sentiment(text):\n",
        "    azure_client = authenticate_azure_client(azure_key, azure_endpoint)\n",
        "    spotify_client = authenticate_spotify_client(spotify_client_id, spotify_client_secret)\n",
        "\n",
        "    sentiment, confidence_scores = analyze_sentiment(azure_client, text)\n",
        "    confidence_score = max(confidence_scores.positive, confidence_scores.neutral, confidence_scores.negative)\n",
        "    print(f\"Detected Sentiment: {sentiment}\")\n",
        "    print(f\"Confidence score: {confidence_score}\")\n",
        "\n",
        "    recommendations = get_song_recommendations(spotify_client, sentiment)\n",
        "    print(\"Song Recommendations:\")\n",
        "    for i, recommendation in enumerate(recommendations, 1):\n",
        "        print(f\"{i}. {recommendation['name']} by {recommendation['artist']}\")\n",
        "        print(f\"Listen here: {recommendation['url']}\")\n",
        "\n",
        "# Example text input\n",
        "text_input = \"<USER INPUT HERE>\"\n",
        "suggest_songs_based_on_sentiment(text_input)    return text_analytics_client\n",
        "\n",
        "# Perform sentiment analysis\n",
        "def analyze_sentiment(client, text):\n",
        "    documents = [text]\n",
        "    response = client.analyze_sentiment(documents=documents)[0]\n",
        "    sentiment = response.sentiment\n",
        "    confidence_scores = response.confidence_scores\n",
        "    return sentiment, confidence_scores\n",
        "\n",
        "# Authenticate with Spotify\n",
        "def authenticate_spotify_client(client_id, client_secret):\n",
        "    client_credentials_manager = SpotifyClientCredentials(client_id=client_id, client_secret=client_secret)\n",
        "    spotify_client = spotipy.Spotify(client_credentials_manager=client_credentials_manager)\n",
        "    return spotify_client\n",
        "\n",
        "# Get song recommendations based on mood\n",
        "def get_song_recommendations(spotify_client, mood):\n",
        "    mood_playlists = {\n",
        "        'positive': '37i9dQZF1EIdbkiqGVYG4L',  # Example playlist ID for happy mood\n",
        "        'neutral': '37i9dQZF1E8KS2trIVnRY3',  # Example playlist ID for neutral mood\n",
        "\n"
      ],
      "outputs": [
        {
          "output_type": "error",
          "ename": "IndentationError",
          "evalue": "unexpected indent (4006354746.py, line 19)",
          "traceback": [
            "\u001b[0;36m  Cell \u001b[0;32mIn[6], line 19\u001b[0;36m\u001b[0m\n\u001b[0;31m    'negative': '37i9dQZF1DX3rxVfibe1L0'  # Example playlist ID for sad mood\u001b[0m\n\u001b[0m    ^\u001b[0m\n\u001b[0;31mIndentationError\u001b[0m\u001b[0;31m:\u001b[0m unexpected indent\n"
          ]
        }
      ],
      "execution_count": 6,
      "metadata": {
        "gather": {
          "logged": 1720920326673
        }
      }
    }
  ],
  "metadata": {
    "kernelspec": {
      "name": "python38-azureml",
      "language": "python",
      "display_name": "Python 3.8 - AzureML"
    },
    "language_info": {
      "name": "python",
      "version": "3.9.19",
      "mimetype": "text/x-python",
      "codemirror_mode": {
        "name": "ipython",
        "version": 3
      },
      "pygments_lexer": "ipython3",
      "nbconvert_exporter": "python",
      "file_extension": ".py"
    },
    "microsoft": {
      "ms_spell_check": {
        "ms_spell_check_language": "en"
      },
      "host": {
        "AzureML": {
          "notebookHasBeenCompleted": true
        }
      }
    },
    "kernel_info": {
      "name": "python38-azureml"
    },
    "nteract": {
      "version": "nteract-front-end@1.0.0"
    }
  },
  "nbformat": 4,
  "nbformat_minor": 2
}